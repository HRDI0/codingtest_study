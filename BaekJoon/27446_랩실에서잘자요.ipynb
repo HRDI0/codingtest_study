{
 "cells": [
  {
   "cell_type": "code",
   "execution_count": 1,
   "id": "ec7f5011",
   "metadata": {},
   "outputs": [],
   "source": [
    "# https://www.acmicpc.net/problem/27446"
   ]
  },
  {
   "cell_type": "markdown",
   "id": "fcfd5463",
   "metadata": {},
   "source": [
    "<!-- https://www.acmicpc.net/problem/27446 -->"
   ]
  }
 ],
 "metadata": {
  "kernelspec": {
   "display_name": "base",
   "language": "python",
   "name": "python3"
  },
  "language_info": {
   "codemirror_mode": {
    "name": "ipython",
    "version": 3
   },
   "file_extension": ".py",
   "mimetype": "text/x-python",
   "name": "python",
   "nbconvert_exporter": "python",
   "pygments_lexer": "ipython3",
   "version": "3.10.13"
  }
 },
 "nbformat": 4,
 "nbformat_minor": 5
}
